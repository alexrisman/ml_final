{
 "metadata": {
  "name": "",
  "signature": "sha256:220c4cc9075323f5acc576a9f9db24c14cb5b2599a5da56e981c1be2bc502792"
 },
 "nbformat": 3,
 "nbformat_minor": 0,
 "worksheets": [
  {
   "cells": [
    {
     "cell_type": "code",
     "collapsed": false,
     "input": [
      "%matplotlib inline\n",
      "\n",
      "# Familiar libraries.\n",
      "import numpy as np\n",
      "from sklearn.datasets import fetch_mldata\n",
      "from sklearn.metrics import classification_report\n",
      "from sklearn import cross_validation\n",
      "from sklearn.neighbors import KNeighborsClassifier\n",
      "from sklearn.linear_model import LinearRegression\n",
      "import time\n",
      "\n",
      "# Take a moment to install Theano.  We will use it for building neural networks.\n",
      "import theano \n",
      "from theano import tensor as T\n",
      "from theano.sandbox.rng_mrg import MRG_RandomStreams as RandomStreams\n",
      "print theano.config.device # We're using CPUs (for now)\n",
      "print theano.config.floatX # Should be 64 bit for CPUs\n",
      "\n",
      "np.random.seed(0)"
     ],
     "language": "python",
     "metadata": {},
     "outputs": [
      {
       "output_type": "stream",
       "stream": "stdout",
       "text": [
        "Couldn't import dot_parser, loading of dot files will not be possible.\n",
        "cpu"
       ]
      },
      {
       "output_type": "stream",
       "stream": "stdout",
       "text": [
        "\n",
        "float64\n"
       ]
      }
     ],
     "prompt_number": 1
    },
    {
     "cell_type": "code",
     "collapsed": false,
     "input": [
      "train_data = np.genfromtxt(\"training.csv\", delimiter=\",\", skip_header=1, usecols=(30)\n",
      "                           , converters={30: lambda x : x.replace(\" \", \",\")})\n",
      "train_data = np.array(map(lambda x : np.array(x.split(\",\")).astype(int), train_data))              \n",
      "train_labels = np.genfromtxt(\"training.csv\", delimiter=\",\", skip_header=1, usecols=np.arange(30))\n",
      "shuffle = np.random.permutation(np.arange(len(train_data)))\n",
      "train_data, train_labels = train_data[shuffle], train_labels[shuffle]\n",
      "test_data, test_labels = train_data[6000:], train_labels[6000:]\n",
      "train_data, train_labels = train_data[:1000], train_labels[:1000]\n",
      "print \"done\""
     ],
     "language": "python",
     "metadata": {},
     "outputs": [
      {
       "output_type": "stream",
       "stream": "stdout",
       "text": [
        "done\n"
       ]
      }
     ],
     "prompt_number": 2
    },
    {
     "cell_type": "code",
     "collapsed": false,
     "input": [
      "train_l_eye_center_x, test_l_eye_center_x = train_labels[:,0], test_labels[:,0]\n",
      "c1 = ~np.isnan(train_l_eye_center_x)\n",
      "c2 = ~np.isnan(test_l_eye_center_x)\n",
      "train_l_eye_center_x, test_l_eye_center_x = train_l_eye_center_x[c1], test_l_eye_center_x[c2]\n",
      "train_data_l_eye_x, test_data_l_eye_x = train_data[c1], test_data[c2]\n",
      "print \"done\"\n"
     ],
     "language": "python",
     "metadata": {},
     "outputs": [
      {
       "output_type": "stream",
       "stream": "stdout",
       "text": [
        "done\n"
       ]
      }
     ],
     "prompt_number": 3
    },
    {
     "cell_type": "code",
     "collapsed": false,
     "input": [
      "lr = LinearRegression()\n",
      "print \"start fitting\"\n",
      "lr.fit(train_data_l_eye_x, train_l_eye_center_x)\n",
      "print \"done fitting\"\n",
      "preds = lr.predict(test_data_l_eye_x)\n",
      "print lr.score(test_data_l_eye_x, test_l_eye_center_x)\n",
      "print test_l_eye_center_x[:10]\n",
      "print preds[:10]\n",
      "print \"done\""
     ],
     "language": "python",
     "metadata": {},
     "outputs": [
      {
       "output_type": "stream",
       "stream": "stdout",
       "text": [
        "start fitting\n",
        "done fitting"
       ]
      },
      {
       "output_type": "stream",
       "stream": "stdout",
       "text": [
        "\n",
        "-0.544157701163"
       ]
      },
      {
       "output_type": "stream",
       "stream": "stdout",
       "text": [
        "\n",
        "[ 63.9576338   65.83580583  67.35652174  72.40452414  65.98201043\n",
        "  71.02321272  63.65517517  66.22329231  66.18670463  68.88633962]\n",
        "[ 62.85146903  64.59785731  63.61000004  68.11475551  65.50236923\n",
        "  63.30541755  63.05737228  68.68071233  72.603239    65.30176847]\n",
        "done\n"
       ]
      }
     ],
     "prompt_number": 6
    },
    {
     "cell_type": "code",
     "collapsed": false,
     "input": [
      "cross_validation.cross_val_score(LinearRegression(), train_data_l_eye_x, train_l_eye_center_x, scoring='mean_squared_error', cv=1)"
     ],
     "language": "python",
     "metadata": {},
     "outputs": [
      {
       "ename": "NameError",
       "evalue": "name 'cross_validation' is not defined",
       "output_type": "pyerr",
       "traceback": [
        "\u001b[0;31m---------------------------------------------------------------------------\u001b[0m\n\u001b[0;31mNameError\u001b[0m                                 Traceback (most recent call last)",
        "\u001b[0;32m<ipython-input-8-62bdb3e47d46>\u001b[0m in \u001b[0;36m<module>\u001b[0;34m()\u001b[0m\n\u001b[0;32m----> 1\u001b[0;31m \u001b[0mcross_validation\u001b[0m\u001b[0;34m.\u001b[0m\u001b[0mcross_val_score\u001b[0m\u001b[0;34m(\u001b[0m\u001b[0mLinearRegression\u001b[0m\u001b[0;34m(\u001b[0m\u001b[0;34m)\u001b[0m\u001b[0;34m,\u001b[0m \u001b[0mtrain_data_l_eye_x\u001b[0m\u001b[0;34m,\u001b[0m \u001b[0mtrain_l_eye_center_x\u001b[0m\u001b[0;34m,\u001b[0m \u001b[0mscoring\u001b[0m\u001b[0;34m=\u001b[0m\u001b[0;34m'mean_squared_error'\u001b[0m\u001b[0;34m,\u001b[0m \u001b[0mcv\u001b[0m\u001b[0;34m=\u001b[0m\u001b[0;36m1\u001b[0m\u001b[0;34m)\u001b[0m\u001b[0;34m\u001b[0m\u001b[0m\n\u001b[0m",
        "\u001b[0;31mNameError\u001b[0m: name 'cross_validation' is not defined"
       ]
      }
     ],
     "prompt_number": 8
    },
    {
     "cell_type": "code",
     "collapsed": false,
     "input": [],
     "language": "python",
     "metadata": {},
     "outputs": []
    }
   ],
   "metadata": {}
  }
 ]
}