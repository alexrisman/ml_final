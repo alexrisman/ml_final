{
 "metadata": {
  "name": "",
  "signature": "sha256:fc55fc952bddf95674e22f56c42fb6a8ce30654a5c962228875749e3a0abb807"
 },
 "nbformat": 3,
 "nbformat_minor": 0,
 "worksheets": [
  {
   "cells": [
    {
     "cell_type": "code",
     "collapsed": false,
     "input": [
      "%matplotlib inline\n",
      "\n",
      "# Familiar libraries.\n",
      "import numpy as np\n",
      "from sklearn.datasets import fetch_mldata\n",
      "from sklearn.metrics import classification_report\n",
      "from sklearn.neighbors import KNeighborsClassifier\n",
      "from sklearn.linear_model import LinearRegression\n",
      "import time\n",
      "\n",
      "# Take a moment to install Theano.  We will use it for building neural networks.\n",
      "import theano \n",
      "from theano import tensor as T\n",
      "from theano.sandbox.rng_mrg import MRG_RandomStreams as RandomStreams\n",
      "print theano.config.device # We're using CPUs (for now)\n",
      "print theano.config.floatX # Should be 64 bit for CPUs\n",
      "\n",
      "np.random.seed(0)"
     ],
     "language": "python",
     "metadata": {},
     "outputs": [
      {
       "output_type": "stream",
       "stream": "stdout",
       "text": [
        "Couldn't import dot_parser, loading of dot files will not be possible.\n",
        "cpu"
       ]
      },
      {
       "output_type": "stream",
       "stream": "stdout",
       "text": [
        "\n",
        "float64\n"
       ]
      }
     ],
     "prompt_number": 1
    },
    {
     "cell_type": "code",
     "collapsed": false,
     "input": [
      "train_data = np.genfromtxt(\"training.csv\", delimiter=\",\", skip_header=1, usecols=(30)\n",
      "                           , converters={30: lambda x : x.replace(\" \", \",\")})\n",
      "train_data = map(lambda x : np.array(x.split(\",\")).astype(int), train_data)                \n",
      "train_labels = np.genfromtxt(\"training.csv\", delimiter=\",\", skip_header=1, usecols=np.arange(30))\n",
      "print train_labels[0]\n",
      "print train_data[0]"
     ],
     "language": "python",
     "metadata": {},
     "outputs": [
      {
       "output_type": "stream",
       "stream": "stdout",
       "text": [
        "[ 66.03356391  39.00227368  30.22700752  36.4216782   59.58207519\n",
        "  39.64742256  73.13034586  39.96999699  36.35657143  37.3894015\n",
        "  23.45287218  37.3894015   56.95326316  29.03364812  80.22712782\n",
        "  32.22813835  40.22760902  29.0023218   16.35637895  29.64747068\n",
        "  44.42057143  57.06680301  61.19530827  79.97016541  28.61449624\n",
        "  77.38899248  43.3126015   72.93545865  43.13070677  84.48577444]\n",
        "[238 236 237 ...,  70  75  90]\n"
       ]
      }
     ],
     "prompt_number": 7
    },
    {
     "cell_type": "code",
     "collapsed": false,
     "input": [],
     "language": "python",
     "metadata": {},
     "outputs": []
    }
   ],
   "metadata": {}
  }
 ]
}