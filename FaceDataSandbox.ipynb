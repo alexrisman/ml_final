{
 "metadata": {
  "name": "",
  "signature": "sha256:6ff4ae780f15af58187463e7d5dd8f22a8909c11d8572880c335063e673901c9"
 },
 "nbformat": 3,
 "nbformat_minor": 0,
 "worksheets": [
  {
   "cells": [
    {
     "cell_type": "code",
     "collapsed": false,
     "input": [
      "%matplotlib inline\n",
      "\n",
      "# Familiar libraries.\n",
      "import numpy as np\n",
      "from sklearn.datasets import fetch_mldata\n",
      "from sklearn.metrics import classification_report\n",
      "from sklearn.metrics import mean_squared_error\n",
      "from sklearn import cross_validation\n",
      "from sklearn.neighbors import KNeighborsClassifier\n",
      "from sklearn.linear_model import LinearRegression\n",
      "import time\n",
      "\n",
      "# Take a moment to install Theano.  We will use it for building neural networks.\n",
      "import theano \n",
      "from theano import tensor as T\n",
      "from theano.sandbox.rng_mrg import MRG_RandomStreams as RandomStreams\n",
      "print theano.config.device # We're using CPUs (for now)\n",
      "print theano.config.floatX # Should be 64 bit for CPUs\n",
      "\n",
      "np.random.seed(0)"
     ],
     "language": "python",
     "metadata": {},
     "outputs": [
      {
       "output_type": "stream",
       "stream": "stdout",
       "text": [
        "cpu\n",
        "float64\n"
       ]
      }
     ],
     "prompt_number": 13
    },
    {
     "cell_type": "code",
     "collapsed": false,
     "input": [
      "train_data = np.genfromtxt(\"training.csv\", delimiter=\",\", skip_header=1, usecols=(30)\n",
      "                           , converters={30: lambda x : x.replace(\" \", \",\")})\n",
      "train_data = np.array(map(lambda x : np.array(x.split(\",\")).astype(int), train_data))              \n",
      "train_labels = np.genfromtxt(\"training.csv\", delimiter=\",\", skip_header=1, usecols=np.arange(30))\n",
      "shuffle = np.random.permutation(np.arange(len(train_data)))\n",
      "train_data, train_labels = train_data[shuffle], train_labels[shuffle]\n",
      "test_data, test_labels = train_data[6000:], train_labels[6000:]\n",
      "train_data, train_labels = train_data[:1000], train_labels[:1000]\n",
      "print \"done\""
     ],
     "language": "python",
     "metadata": {},
     "outputs": [
      {
       "output_type": "stream",
       "stream": "stdout",
       "text": [
        "done\n"
       ]
      }
     ],
     "prompt_number": 2
    },
    {
     "cell_type": "code",
     "collapsed": false,
     "input": [
      "train_l_eye_center_x, test_l_eye_center_x = train_labels[:,1], test_labels[:,1]\n",
      "c1 = ~np.isnan(train_l_eye_center_x)\n",
      "c2 = ~np.isnan(test_l_eye_center_x)\n",
      "train_l_eye_center_x, test_l_eye_center_x = train_l_eye_center_x[c1], test_l_eye_center_x[c2]\n",
      "train_data_l_eye_x, test_data_l_eye_x = train_data[c1], test_data[c2]\n",
      "print \"done\"\n"
     ],
     "language": "python",
     "metadata": {},
     "outputs": [
      {
       "output_type": "stream",
       "stream": "stdout",
       "text": [
        "done\n"
       ]
      }
     ],
     "prompt_number": 22
    },
    {
     "cell_type": "code",
     "collapsed": false,
     "input": [
      "lr = LinearRegression()\n",
      "print \"start fitting\"\n",
      "lr.fit(train_data_l_eye_x, train_l_eye_center_x)\n",
      "print \"done fitting\"\n",
      "preds = lr.predict(test_data_l_eye_x)\n",
      "print lr.score(test_data_l_eye_x, test_l_eye_center_x)\n",
      "print test_l_eye_center_x[:10]\n",
      "print preds[:10]\n",
      "print np.sqrt(mean_squared_error(test_l_eye_center_x, preds))\n",
      "print \"done\""
     ],
     "language": "python",
     "metadata": {},
     "outputs": [
      {
       "output_type": "stream",
       "stream": "stdout",
       "text": [
        "start fitting\n",
        "done fitting"
       ]
      },
      {
       "output_type": "stream",
       "stream": "stdout",
       "text": [
        "\n",
        "0.0253662183391"
       ]
      },
      {
       "output_type": "stream",
       "stream": "stdout",
       "text": [
        "\n",
        "[ 35.85741972  38.40062136  40.06935652  37.03348966  38.81603478\n",
        "  37.60270439  34.64367724  38.29228615  37.66240569  38.68093585]\n",
        "[ 37.33464166  37.84373053  41.31575921  36.65311362  39.94004226\n",
        "  31.58072542  34.01099241  36.76979507  40.03090236  35.82455776]\n",
        "3.19683970631\n",
        "done\n"
       ]
      }
     ],
     "prompt_number": 23
    },
    {
     "cell_type": "code",
     "collapsed": false,
     "input": [
      "cross_validation.cross_val_score(LinearRegression(), train_data_l_eye_x, y=train_l_eye_center_x, scoring='root_mean_squared_error', cv=2)"
     ],
     "language": "python",
     "metadata": {},
     "outputs": [
      {
       "metadata": {},
       "output_type": "pyout",
       "prompt_number": 12,
       "text": [
        "array([ -1.22510959e+21,  -1.32272154e+20])"
       ]
      }
     ],
     "prompt_number": 12
    },
    {
     "cell_type": "code",
     "collapsed": false,
     "input": [
      "train_data, train_labels = train_data[:2000], train_labels[:2000]\n",
      "feature_lrs = []\n",
      "i = 0\n",
      "while i < 30:\n",
      "    feature_train_labels = train_labels[:,i]\n",
      "    remove_nan = ~np.isnan(feature_train_labels)\n",
      "    feature_train_labels = feature_train_labels[remove_nan]\n",
      "    feature_train_data = train_data[remove_nan]\n",
      "    feature_lr = LinearRegression()\n",
      "    feature_lr.fit(feature_train_data, feature_train_labels)\n",
      "    feature_lrs.append(feature_lr)\n",
      "    i += 1\n",
      "    \n",
      "print feature_lrs\n",
      "    \n",
      "    "
     ],
     "language": "python",
     "metadata": {},
     "outputs": [
      {
       "output_type": "stream",
       "stream": "stdout",
       "text": [
        "[LinearRegression(copy_X=True, fit_intercept=True, normalize=False), LinearRegression(copy_X=True, fit_intercept=True, normalize=False), LinearRegression(copy_X=True, fit_intercept=True, normalize=False), LinearRegression(copy_X=True, fit_intercept=True, normalize=False), LinearRegression(copy_X=True, fit_intercept=True, normalize=False), LinearRegression(copy_X=True, fit_intercept=True, normalize=False), LinearRegression(copy_X=True, fit_intercept=True, normalize=False), LinearRegression(copy_X=True, fit_intercept=True, normalize=False), LinearRegression(copy_X=True, fit_intercept=True, normalize=False), LinearRegression(copy_X=True, fit_intercept=True, normalize=False), LinearRegression(copy_X=True, fit_intercept=True, normalize=False), LinearRegression(copy_X=True, fit_intercept=True, normalize=False), LinearRegression(copy_X=True, fit_intercept=True, normalize=False), LinearRegression(copy_X=True, fit_intercept=True, normalize=False), LinearRegression(copy_X=True, fit_intercept=True, normalize=False), LinearRegression(copy_X=True, fit_intercept=True, normalize=False), LinearRegression(copy_X=True, fit_intercept=True, normalize=False), LinearRegression(copy_X=True, fit_intercept=True, normalize=False), LinearRegression(copy_X=True, fit_intercept=True, normalize=False), LinearRegression(copy_X=True, fit_intercept=True, normalize=False), LinearRegression(copy_X=True, fit_intercept=True, normalize=False), LinearRegression(copy_X=True, fit_intercept=True, normalize=False), LinearRegression(copy_X=True, fit_intercept=True, normalize=False), LinearRegression(copy_X=True, fit_intercept=True, normalize=False), LinearRegression(copy_X=True, fit_intercept=True, normalize=False), LinearRegression(copy_X=True, fit_intercept=True, normalize=False), LinearRegression(copy_X=True, fit_intercept=True, normalize=False), LinearRegression(copy_X=True, fit_intercept=True, normalize=False), LinearRegression(copy_X=True, fit_intercept=True, normalize=False), LinearRegression(copy_X=True, fit_intercept=True, normalize=False)]\n"
       ]
      }
     ],
     "prompt_number": 30
    },
    {
     "cell_type": "code",
     "collapsed": false,
     "input": [
      "feature_rmses = []\n",
      "i = 0\n",
      "while i < 30:\n",
      "    feature_test_labels = test_labels[:,i]\n",
      "    remove_nan = ~np.isnan(feature_test_labels)\n",
      "    feature_test_labels = feature_test_labels[remove_nan]\n",
      "    feature_test_data = test_data[remove_nan]\n",
      "    feature_lr = feature_lrs[i]\n",
      "    feature_preds = feature_lr.predict(feature_test_data)\n",
      "    feature_rmse = np.sqrt(mean_squared_error(feature_test_labels, feature_preds))\n",
      "    feature_rmses.append(feature_rmse)\n",
      "    i += 1\n",
      "    \n",
      "print feature_rmses\n",
      "print np.mean(feature_rmses)\n",
      "    "
     ],
     "language": "python",
     "metadata": {},
     "outputs": [
      {
       "output_type": "stream",
       "stream": "stdout",
       "text": [
        "[4.4203886232471703, 3.1968397063149112, 4.2862249439474276, 3.1955835531876322, 2.0726150670760624, 1.7969938165709884, 2.9099751087269778, 2.28886112014274, 2.5992171935264734, 1.827160626688296, 3.1753097212102461, 2.2332240919455635, 3.0601995390057537, 2.7236461357891226, 2.6147127653263307, 3.2500418290126922, 3.110722752397713, 2.730710604170226, 3.2320196556391667, 3.2003935435194761, 5.0799806807228167, 6.4531159171281258, 3.3852377119142876, 3.8839393517979452, 3.7104300601205602, 3.8419574508393786, 3.1286389401652128, 3.8080587545984765, 5.0991290140629628, 6.1987427687862136]\n",
        "3.41713570159\n"
       ]
      }
     ],
     "prompt_number": 31
    },
    {
     "cell_type": "code",
     "collapsed": false,
     "input": [
      "print len(train_data)"
     ],
     "language": "python",
     "metadata": {},
     "outputs": [
      {
       "output_type": "stream",
       "stream": "stdout",
       "text": [
        "1000\n"
       ]
      }
     ],
     "prompt_number": 34
    },
    {
     "cell_type": "code",
     "collapsed": false,
     "input": [],
     "language": "python",
     "metadata": {},
     "outputs": []
    }
   ],
   "metadata": {}
  }
 ]
}